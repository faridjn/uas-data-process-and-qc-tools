{
 "cells": [
  {
   "cell_type": "code",
   "execution_count": null,
   "id": "0f9a3363",
   "metadata": {},
   "outputs": [],
   "source": [
    "# Author: Farid Javadnejad\n",
    "# Date: 2025-09-10\n",
    "# Last Update: 2025-609-11\n",
    "#\n",
    "# DESCRIPTION:\n",
    "# This script Generates and visualizes geotagging accuracy metrics for UAS image datasets.\n",
    "# \n",
    "# DISCLAIMER:\n",
    "# This script was developed with the assistance of AI tools for debugging, reviewing, and testing.\n",
    "# ---------------------------------------------------------------------------------------------------"
   ]
  },
  {
   "cell_type": "code",
   "execution_count": 8,
   "id": "6a0342f9",
   "metadata": {},
   "outputs": [],
   "source": [
    "#pip install matplotlib\n",
    "#%pip install plotly\n",
    "#%pip install -U kaleido\n",
    "#%pip install nbformat\n",
    "#%pip install notebook ipywidgets nbformat\n"
   ]
  },
  {
   "cell_type": "markdown",
   "id": "550903d8",
   "metadata": {},
   "source": [
    "## Imports & Configuration"
   ]
  },
  {
   "cell_type": "code",
   "execution_count": 9,
   "id": "84c09d32",
   "metadata": {},
   "outputs": [],
   "source": [
    "# --- Setup: imports ---\n",
    "import os\n",
    "import math\n",
    "import importlib.util\n",
    "from pathlib import Path\n",
    "from typing import Optional, Union, Tuple\n",
    "from datetime import datetime\n",
    "import pandas as pd\n",
    "import matplotlib.pyplot as plt\n",
    "import plotly.express as px\n",
    "\n",
    "# Ensure inline plotting\n",
    "%matplotlib inline\n",
    "\n",
    "# --- Global Configuration ---\n",
    "READ_DIR = Path(r\"C:\\Users\\USFJ139860\\OneDrive - WSP O365\\Sharing\\250904 - Nogal Canyon - Pix4D Merge Issue\\DATA\")\n",
    "OUTPUT_DIR = Path(r\"C:\\Users\\USFJ139860\\OneDrive - WSP O365\\Sharing\\250904 - Nogal Canyon - Pix4D Merge Issue\")\n",
    "FILE_EXTENSION = \".jpg\"\n",
    "GEOTAG_FILE_NAME = \"*geotags.csv\"\n",
    "REPORT_SUBDIR = \"REPORT_GEOTAGGING_METRICS\"\n",
    "FALLBACK_DIR = Path(r\"C:\\temp\")\n",
    "\n",
    "# Columns from csv file\n",
    "ACCU_H = \"accuracy horizontal [meter]\"\n",
    "ACCU_V = \"accuracy vertical [meter]\"\n",
    "LAT_COL = \"latitude [decimal degrees]\"\n",
    "LON_COL = \"longitude [decimal degrees]\"\n",
    "IMAGE_INDEX = \"# image name\""
   ]
  },
  {
   "cell_type": "markdown",
   "id": "2d2890ce",
   "metadata": {},
   "source": [
    "## Functions"
   ]
  },
  {
   "cell_type": "code",
   "execution_count": 10,
   "id": "ec727fba",
   "metadata": {},
   "outputs": [],
   "source": [
    "def count_files_by_extension(directory: Path, extension: str) -> int:\n",
    "    return sum(1 for _, _, files in os.walk(directory) for file in files if file.lower().endswith(extension.lower()))\n",
    "\n",
    "def load_geotag_csvs(base_path: Path, pattern: str = GEOTAG_FILE_NAME) -> Tuple[pd.DataFrame, int, int]:\n",
    "    files = sorted(base_path.rglob(pattern))\n",
    "    if not files:\n",
    "        raise FileNotFoundError(f\"No files matching '{pattern}' found in: {base_path.resolve()}\")\n",
    "\n",
    "    frames = []\n",
    "    for file in files:\n",
    "        df = pd.read_csv(file, sep=None, engine=\"python\")\n",
    "        df.columns = df.columns.str.strip()\n",
    "        df[\"source_name\"] = file.name\n",
    "        df[\"source_parent\"] = file.parent.name\n",
    "        frames.append(df)\n",
    "\n",
    "    combined_df = pd.concat(frames, ignore_index=True)\n",
    "    return combined_df, len(files), len(combined_df)\n",
    "\n",
    "def prepare_output_dir(output_base: Path, source_base: Path) -> Tuple[Path, Path]:\n",
    "    final_dir = (output_base / REPORT_SUBDIR) if output_base.exists() else FALLBACK_DIR / REPORT_SUBDIR\n",
    "    final_dir.mkdir(parents=True, exist_ok=True)\n",
    "\n",
    "    info_path = final_dir / \"report.txt\"\n",
    "    with open(info_path, \"w\", encoding=\"utf-8\") as f:\n",
    "        f.write(\n",
    "            f\"Source base folder: {source_base.resolve()}\\n\"\n",
    "            f\"Folder name:        {source_base.name}\\n\"\n",
    "            f\"Prepared on:        {datetime.now().isoformat(timespec='seconds')}\\n\\n\"\n",
    "        )\n",
    "\n",
    "    return final_dir, info_path\n",
    "\n",
    "\n",
    "def save_combined_csv(df: pd.DataFrame, out_dir: Union[str, Path], filename: str = \"combined_geotags.csv\") -> Path:\n",
    "    # Drop specified columns if they exist\n",
    "    df = df.drop(columns=[\"source_name\", \"source_parent\"], errors=\"ignore\")\n",
    "\n",
    "    # Ensure output directory exists\n",
    "    out_dir = Path(out_dir)\n",
    "    out_dir.mkdir(parents=True, exist_ok=True)\n",
    "\n",
    "    # Save to CSV\n",
    "    out_path = out_dir / filename\n",
    "    df.to_csv(out_path, index=False)\n",
    "    print(f\"✅ CSV saved to: {out_path.resolve()}\")\n",
    "    return out_path\n",
    "\n",
    "\n",
    "def summarize_accuracy_metrics(df: pd.DataFrame, image_idx = IMAGE_INDEX, col_a = ACCU_H, col_b = ACCU_V):\n",
    "    \n",
    "    df[col_a] = pd.to_numeric(df[col_a], errors='coerce')\n",
    "    df[col_b] = pd.to_numeric(df[col_b], errors='coerce')\n",
    "\n",
    "    summary = pd.DataFrame({\n",
    "        col_a: [df[col_a].min(), df[col_a].max(), df[col_a].mean(), df[col_a].std()],\n",
    "        col_b: [df[col_b].min(), df[col_b].max(), df[col_b].mean(), df[col_b].std()]\n",
    "    }, index=[\"min\", \"max\", \"mean\", \"std\"]).T\n",
    "\n",
    "    max10_col_a = df.sort_values(by=col_a, ascending=False).head(10)[[image_idx, col_a]]\n",
    "    max10_col_b = df.sort_values(by=col_b, ascending=False).head(10)[[image_idx, col_b]]\n",
    "\n",
    "    return summary, max10_col_a, max10_col_b\n",
    "\n"
   ]
  },
  {
   "cell_type": "code",
   "execution_count": null,
   "id": "7a81353c",
   "metadata": {},
   "outputs": [],
   "source": [
    "def plot_accuracy_vs_index(df: pd.DataFrame, output_dir: Path, filename_prefix: str = \"accuracy_vs_index\"):\n",
    "    horiz_col = \"accuracy horizontal [meter]\"\n",
    "    vert_col = \"accuracy vertical [meter]\"\n",
    "\n",
    "    acc_h = pd.to_numeric(df[horiz_col], errors=\"coerce\")\n",
    "    acc_v = pd.to_numeric(df[vert_col], errors=\"coerce\")\n",
    "    valid_mask = acc_h.notna() | acc_v.notna()\n",
    "\n",
    "    fig, ax = plt.subplots(figsize=(10, 6))\n",
    "    ax.scatter(df.index[valid_mask], acc_h[valid_mask], label=horiz_col, alpha=0.7)\n",
    "    ax.scatter(df.index[valid_mask], acc_v[valid_mask], label=vert_col, alpha=0.7)\n",
    "    ax.set_xlabel(\"Position Index\")\n",
    "    ax.set_ylabel(\"Accuracy [meter]\")\n",
    "    ax.set_title(\"Position Accuracy\")\n",
    "    ax.legend()\n",
    "    ax.grid(True)\n",
    "    plt.tight_layout()\n",
    "    plt.show()\n",
    "\n",
    "    output_dir.mkdir(parents=True, exist_ok=True)\n",
    "    fig.savefig(output_dir / f\"{filename_prefix}.png\", dpi=150)\n",
    "    print(f\"✅ Accuracy plot saved to: {(output_dir / f'{filename_prefix}.png').resolve()}\")\n",
    "\n",
    "\n",
    "def plot_geotag_locations(\n",
    "    df: pd.DataFrame,\n",
    "    output_dir: Path,\n",
    "    filename_prefix: str = \"geo_map\",\n",
    "    lat_col: str = LAT_COL,          # your existing constants\n",
    "    lon_col: str = LON_COL,          # your existing constants\n",
    "    color_by_col: Optional[str] = None,\n",
    "    color_scale: str = \"Viridis\",\n",
    "    quantile_clip: Optional[Tuple[float, float]] = (0.02, 0.98),  # set to None to disable\n",
    "    enable_color: bool = True,       # <-- new: explicit on/off switch\n",
    "    colorbar_title: Optional[str] = None,  # optional override for colorbar title\n",
    "    point_size: int = 9,\n",
    "    point_opacity: float = 0.9,\n",
    "):\n",
    "    \"\"\"\n",
    "    Plot geotagged locations on a Mapbox map and (optionally) color points by a metric.\n",
    "    \"\"\"\n",
    "    # Ensure numeric latitude/longitude\n",
    "    df[lat_col] = pd.to_numeric(df[lat_col], errors=\"coerce\")\n",
    "    df[lon_col] = pd.to_numeric(df[lon_col], errors=\"coerce\")\n",
    "    df_valid = df.dropna(subset=[lat_col, lon_col])\n",
    "\n",
    "    if df_valid.empty:\n",
    "        print(\"⚠️ No valid coordinates to plot.\")\n",
    "        return\n",
    "\n",
    "    # Compute map center and zoom\n",
    "    lat_min, lat_max = df_valid[lat_col].min(), df_valid[lat_col].max()\n",
    "    lon_min, lon_max = df_valid[lon_col].min(), df_valid[lon_col].max()\n",
    "    center_lat = (lat_min + lat_max) / 2.0\n",
    "    center_lon = (lon_min + lon_max) / 2.0\n",
    "    max_range = max(lat_max - lat_min, lon_max - lon_min)\n",
    "    zoom = 15 if max_range < 0.01 else 12 if max_range < 0.1 else 10 if max_range < 1 else 8 if max_range < 10 else 5\n",
    "    # Decide whether to color\n",
    "    use_color = bool(enable_color and color_by_col)\n",
    "    range_color = None\n",
    "\n",
    "    if use_color:\n",
    "        if color_by_col in df_valid.columns:\n",
    "            df_valid[color_by_col] = pd.to_numeric(df_valid[color_by_col], errors=\"coerce\")\n",
    "            s = df_valid[color_by_col].dropna()\n",
    "            if not s.empty:\n",
    "                if quantile_clip is not None:\n",
    "                    low_q, high_q = quantile_clip\n",
    "                    vmin = float(s.quantile(low_q))\n",
    "                    vmax = float(s.quantile(high_q))\n",
    "                    if vmin < vmax:\n",
    "                        range_color = [vmin, vmax]\n",
    "            else:\n",
    "                print(f\"ℹ️ Column '{color_by_col}' exists but has no numeric values; plotting without color scale.\")\n",
    "                use_color = False\n",
    "        else:\n",
    "            print(f\"ℹ️ Column '{color_by_col}' not found; plotting without color scale.\")\n",
    "            use_color = False\n",
    "\n",
    "    # Build figure\n",
    "    fig = px.scatter_map(\n",
    "        df_valid,\n",
    "        lat=lat_col,\n",
    "        lon=lon_col,\n",
    "        color=color_by_col if use_color else None,\n",
    "        color_continuous_scale=color_scale if use_color else None,\n",
    "        range_color=range_color if use_color else None,\n",
    "        hover_name=\"source_name\" if \"source_name\" in df_valid.columns else None,\n",
    "        hover_data={color_by_col: ':.2f'} if use_color else None,\n",
    "        title=\"Geotag Locations Map\",\n",
    "        height=600,\n",
    "        opacity=point_opacity,\n",
    "        zoom=zoom,\n",
    "    )\n",
    "\n",
    "\n",
    "    fig.update_traces(marker=dict(size=point_size))\n",
    "\n",
    "    fig.update_layout(\n",
    "        map=dict(\n",
    "            center={\"lat\": center_lat, \"lon\": center_lon},\n",
    "            style=\"open-street-map\",  # still works\n",
    "            zoom=zoom\n",
    "        ),\n",
    "        margin={\"r\": 0, \"t\": 40, \"l\": 0, \"b\": 0},\n",
    "    )\n",
    "\n",
    "\n",
    "    if use_color:\n",
    "        fig.update_coloraxes(colorbar_title_text=(colorbar_title or str(color_by_col)))\n",
    "\n",
    "    fig.show()\n",
    "\n",
    "    output_dir.mkdir(parents=True, exist_ok=True)\n",
    "    fig.write_image(output_dir / f\"{filename_prefix}.png\")\n",
    "    fig.write_html(output_dir / f\"{filename_prefix}.html\")\n",
    "    print(f\"✅ Geotag map saved to: {(output_dir / f'{filename_prefix}.png').resolve()} and HTML\")\n"
   ]
  },
  {
   "cell_type": "code",
   "execution_count": null,
   "id": "9a6be234",
   "metadata": {},
   "outputs": [],
   "source": []
  },
  {
   "cell_type": "markdown",
   "id": "7cefd6c3",
   "metadata": {},
   "source": [
    "## Run the Workflow"
   ]
  },
  {
   "cell_type": "code",
   "execution_count": null,
   "id": "d3955006",
   "metadata": {},
   "outputs": [
    {
     "name": "stdout",
     "output_type": "stream",
     "text": [
      "📸 Total '.jpg' files found: 815\n",
      "✅ Loaded 2 CSV files with 814 rows\n",
      "✅ CSV saved to: C:\\Users\\USFJ139860\\OneDrive - WSP O365\\Sharing\\250904 - Nogal Canyon - Pix4D Merge Issue\\REPORT_GEOTAGGING_METRICS\\combined_geotags.csv\n",
      "📊 Summary Table:\n",
      "                              min   max   mean    std\n",
      "accuracy horizontal [meter]  0.03  0.07  0.034  0.007\n",
      "accuracy vertical [meter]    0.04  0.15  0.070  0.020\n",
      "\n",
      "Worst 10 Horizontal Accuracy:\n",
      "                               # image name  accuracy horizontal [meter]\n",
      "0    250904_Nogal_RGB_4_Flight_02_00002.JPG                         0.07\n",
      "683  250904_Nogal_RGB_4_Flight_03_00040.JPG                         0.07\n",
      "684  250904_Nogal_RGB_4_Flight_03_00041.JPG                         0.07\n",
      "685  250904_Nogal_RGB_4_Flight_03_00042.JPG                         0.07\n",
      "620  250904_Nogal_RGB_4_Flight_02_00622.JPG                         0.06\n",
      "619  250904_Nogal_RGB_4_Flight_02_00621.JPG                         0.06\n",
      "633  250904_Nogal_RGB_4_Flight_02_00635.JPG                         0.06\n",
      "616  250904_Nogal_RGB_4_Flight_02_00618.JPG                         0.06\n",
      "645  250904_Nogal_RGB_4_Flight_03_00002.JPG                         0.06\n",
      "754  250904_Nogal_RGB_4_Flight_03_00111.JPG                         0.06\n",
      "\n",
      "Worst 10 Vertical Accuracy:\n",
      "                               # image name  accuracy vertical [meter]\n",
      "0    250904_Nogal_RGB_4_Flight_02_00002.JPG                       0.15\n",
      "792  250904_Nogal_RGB_4_Flight_03_00150.JPG                       0.11\n",
      "813  250904_Nogal_RGB_4_Flight_03_00171.JPG                       0.11\n",
      "798  250904_Nogal_RGB_4_Flight_03_00156.JPG                       0.11\n",
      "799  250904_Nogal_RGB_4_Flight_03_00157.JPG                       0.11\n",
      "800  250904_Nogal_RGB_4_Flight_03_00158.JPG                       0.11\n",
      "767  250904_Nogal_RGB_4_Flight_03_00124.JPG                       0.11\n",
      "770  250904_Nogal_RGB_4_Flight_03_00128.JPG                       0.11\n",
      "771  250904_Nogal_RGB_4_Flight_03_00129.JPG                       0.11\n",
      "769  250904_Nogal_RGB_4_Flight_03_00126.JPG                       0.11\n"
     ]
    },
    {
     "data": {
      "image/png": "[encoded data removed]",
      "text/plain": [
       "<Figure size 1000x600 with 1 Axes>"
      ]
     },
     "metadata": {},
     "output_type": "display_data"
    },
    {
     "name": "stdout",
     "output_type": "stream",
     "text": [
      "✅ Accuracy plot saved to: C:\\Users\\USFJ139860\\OneDrive - WSP O365\\Sharing\\250904 - Nogal Canyon - Pix4D Merge Issue\\REPORT_GEOTAGGING_METRICS\\accuracy_vs_index.png\n"
     ]
    }
   ],
   "source": [
    "# Step 1: Count image files\n",
    "total_images = count_files_by_extension(READ_DIR, FILE_EXTENSION)\n",
    "print(f\"📸 Total '{FILE_EXTENSION}' files found: {total_images}\")\n",
    "\n",
    "# Step 2: Load geotags\n",
    "df, num_csvs, total_rows = load_geotag_csvs(READ_DIR)\n",
    "print(f\"✅ Loaded {num_csvs} CSV files with {total_rows:,} rows\")\n",
    "\n",
    "# Step 3: Prepare output directory\n",
    "final_dir, report_path = prepare_output_dir(OUTPUT_DIR, READ_DIR)\n",
    "\n",
    "# Step 4: Save combined CSV\n",
    "csv_path = save_combined_csv(df, final_dir)\n",
    "\n",
    "# Step 5: Summarize accuracy\n",
    "summary, top10_horiz, top10_vert = summarize_accuracy_metrics(df)\n",
    "print(\"📊 Summary Table:\")\n",
    "print(summary.round(3))\n",
    "print(\"\\nWorst 10 Horizontal Accuracy:\")\n",
    "print(top10_horiz)\n",
    "print(\"\\nWorst 10 Vertical Accuracy:\")\n",
    "print(top10_vert)\n",
    "\n",
    "# Step 6: Plot accuracy\n",
    "plot_accuracy_vs_index(df, output_dir=final_dir)\n",
    "\n",
    "# Step 7: Append summary to report\n",
    "with open(report_path, \"a\", encoding=\"utf-8\") as f:\n",
    "    f.write(f\"\\nTotal '{FILE_EXTENSION}' files found: {total_images}\\n\")\n",
    "    f.write(f\"Loaded {num_csvs} CSV files\\n\")\n",
    "    f.write(f\"Total rows: {total_rows:,}\\n\")\n",
    "    f.write(f\"CSV saved to: {csv_path.resolve()}\\n\\n\")\n",
    "    f.write(\"Summary Table:\\n\")\n",
    "    f.write(summary.round(3).to_string())\n",
    "    f.write(\"\\n\\nWorst 10 Horizontal Accuracy:\\n\")\n",
    "    f.write(top10_horiz.to_string(index=True))\n",
    "    f.write(\"\\n\\nWorst 10 Vertical Accuracy:\\n\")\n",
    "    f.write(top10_vert.to_string(index=True))\n"
   ]
  },
  {
   "cell_type": "code",
   "execution_count": 13,
   "id": "1bf1a53f",
   "metadata": {},
   "outputs": [
    {
     "data": {
      "application/vnd.plotly.v1+json": {
       "config": {
        "plotlyServerURL": "https://plot.ly"
       },
       "data": [
        {
         "hovertemplate": "<b>%{hovertext}</b><br><br>latitude [decimal degrees]=%{lat}<br>longitude [decimal degrees]=%{lon}<extra></extra>",
         "hovertext": [
          "250904_Nogal_RGB_4a geotags.csv",
          "250904_Nogal_RGB_4a geotags.csv",
          "250904_Nogal_RGB_4a geotags.csv",
          "250904_Nogal_RGB_4a geotags.csv",
          "250904_Nogal_RGB_4a geotags.csv",
          "250904_Nogal_RGB_4a geotags.csv",
          "250904_Nogal_RGB_4a geotags.csv",
          "250904_Nogal_RGB_4a geotags.csv",
          "250904_Nogal_RGB_4a geotags.csv",
          "250904_Nogal_RGB_4a geotags.csv",
          "250904_Nogal_RGB_4a geotags.csv",
          "250904_Nogal_RGB_4a geotags.csv",
          "250904_Nogal_RGB_4a geotags.csv",
          "250904_Nogal_RGB_4a geotags.csv",
          "250904_Nogal_RGB_4a geotags.csv",
          "250904_Nogal_RGB_4a geotags.csv",
          "250904_Nogal_RGB_4a geotags.csv",
          "250904_Nogal_RGB_4a geotags.csv",
          "250904_Nogal_RGB_4a geotags.csv",
          "250904_Nogal_RGB_4a geotags.csv",
          "250904_Nogal_RGB_4a geotags.csv",
          "250904_Nogal_RGB_4a geotags.csv",
          "250904_Nogal_RGB_4a geotags.csv",
          "250904_Nogal_RGB_4a geotags.csv",
          "250904_Nogal_RGB_4a geotags.csv",
          "250904_Nogal_RGB_4a geotags.csv",
          "250904_Nogal_RGB_4a geotags.csv",
          "250904_Nogal_RGB_4a geotags.csv",
          "250904_Nogal_RGB_4a geotags.csv",
          "250904_Nogal_RGB_4a geotags.csv",
          "250904_Nogal_RGB_4a geotags.csv",
          "250904_Nogal_RGB_4a geotags.csv",
          "250904_Nogal_RGB_4a geotags.csv",
          "250904_Nogal_RGB_4a geotags.csv",
          "250904_Nogal_RGB_4a geotags.csv",
          "250904_Nogal_RGB_4a geotags.csv",
          "250904_Nogal_RGB_4a geotags.csv",
          "250904_Nogal_RGB_4a geotags.csv",
          "250904_Nogal_RGB_4a geotags.csv",
          "250904_Nogal_RGB_4a geotags.csv",
          "250904_Nogal_RGB_4a geotags.csv",
          "250904_Nogal_RGB_4a geotags.csv",
          "250904_Nogal_RGB_4a geotags.csv",
          "250904_Nogal_RGB_4a geotags.csv",
          "250904_Nogal_RGB_4a geotags.csv",
          "250904_Nogal_RGB_4a geotags.csv",
          "250904_Nogal_RGB_4a geotags.csv",
          "250904_Nogal_RGB_4a geotags.csv",
          "250904_Nogal_RGB_4a geotags.csv",
          "250904_Nogal_RGB_4a geotags.csv",
          "250904_Nogal_RGB_4a geotags.csv",
          "250904_Nogal_RGB_4a geotags.csv",
          "250904_Nogal_RGB_4a geotags.csv",
          "250904_Nogal_RGB_4a geotags.csv",
          "250904_Nogal_RGB_4a geotags.csv",
          "250904_Nogal_RGB_4a geotags.csv",
          "250904_Nogal_RGB_4a geotags.csv",
          "250904_Nogal_RGB_4a geotags.csv",
          "250904_Nogal_RGB_4a geotags.csv",
          "250904_Nogal_RGB_4a geotags.csv",
          "250904_Nogal_RGB_4a geotags.csv",
          "250904_Nogal_RGB_4a geotags.csv",
          "250904_Nogal_RGB_4a geotags.csv",
          "250904_Nogal_RGB_4a geotags.csv",
          "250904_Nogal_RGB_4a geotags.csv",
          "250904_Nogal_RGB_4a geotags.csv",
          "250904_Nogal_RGB_4a geotags.csv",
          "250904_Nogal_RGB_4a geotags.csv",
          "250904_Nogal_RGB_4a geotags.csv",
          "250904_Nogal_RGB_4a geotags.csv",
          "250904_Nogal_RGB_4a geotags.csv",
          "250904_Nogal_RGB_4a geotags.csv",
          "250904_Nogal_RGB_4a geotags.csv",
          "250904_Nogal_RGB_4a geotags.csv",
          "250904_Nogal_RGB_4a geotags.csv",
          "250904_Nogal_RGB_4a geotags.csv",
          "250904_Nogal_RGB_4a geotags.csv",
          "250904_Nogal_RGB_4a geotags.csv",
          "250904_Nogal_RGB_4a geotags.csv",
          "250904_Nogal_RGB_4a geotags.csv",
          "250904_Nogal_RGB_4a geotags.csv",
          "250904_Nogal_RGB_4a geotags.csv",
          "250904_Nogal_RGB_4a geotags.csv",
          "250904_Nogal_RGB_4a geotags.csv",
          "250904_Nogal_RGB_4a geotags.csv",
          "250904_Nogal_RGB_4a geotags.csv",
          "250904_Nogal_RGB_4a geotags.csv",
          "250904_Nogal_RGB_4a geotags.csv",
          "250904_Nogal_RGB_4a geotags.csv",
          "250904_Nogal_RGB_4a geotags.csv",
          "250904_Nogal_RGB_4a geotags.csv",
          "250904_Nogal_RGB_4a geotags.csv",
          "250904_Nogal_RGB_4a geotags.csv",
          "250904_Nogal_RGB_4a geotags.csv",
          "250904_Nogal_RGB_4a geotags.csv",
          "250904_Nogal_RGB_4a geotags.csv",
          "250904_Nogal_RGB_4a geotags.csv",
          "250904_Nogal_RGB_4a geotags.csv",
          "250904_Nogal_RGB_4a geotags.csv",
          "250904_Nogal_RGB_4a geotags.csv",
          "250904_Nogal_RGB_4a geotags.csv",
          "250904_Nogal_RGB_4a geotags.csv",
          "250904_Nogal_RGB_4a geotags.csv",
          "250904_Nogal_RGB_4a geotags.csv",
          "250904_Nogal_RGB_4a geotags.csv",
          "250904_Nogal_RGB_4a geotags.csv",
          "250904_Nogal_RGB_4a geotags.csv",
          "250904_Nogal_RGB_4a geotags.csv",
          "250904_Nogal_RGB_4a geotags.csv",
          "250904_Nogal_RGB_4a geotags.csv",
          "250904_Nogal_RGB_4a geotags.csv",
          "250904_Nogal_RGB_4a geotags.csv",
          "250904_Nogal_RGB_4a geotags.csv",
          "250904_Nogal_RGB_4a geotags.csv",
          "250904_Nogal_RGB_4a geotags.csv",
          "250904_Nogal_RGB_4a geotags.csv",
          "250904_Nogal_RGB_4a geotags.csv",
          "250904_Nogal_RGB_4a geotags.csv",
          "250904_Nogal_RGB_4a geotags.csv",
          "250904_Nogal_RGB_4a geotags.csv",
          "250904_Nogal_RGB_4a geotags.csv",
          "250904_Nogal_RGB_4a geotags.csv",
          "250904_Nogal_RGB_4a geotags.csv",
          "250904_Nogal_RGB_4a geotags.csv",
          "250904_Nogal_RGB_4a geotags.csv",
          "250904_Nogal_RGB_4a geotags.csv",
          "250904_Nogal_RGB_4a geotags.csv",
          "250904_Nogal_RGB_4a geotags.csv",
          "250904_Nogal_RGB_4a geotags.csv",
          "250904_Nogal_RGB_4a geotags.csv",
          "250904_Nogal_RGB_4a geotags.csv",
          "250904_Nogal_RGB_4a geotags.csv",
          "250904_Nogal_RGB_4a geotags.csv",
          "250904_Nogal_RGB_4a geotags.csv",
          "250904_Nogal_RGB_4a geotags.csv",
          "250904_Nogal_RGB_4a geotags.csv",
          "250904_Nogal_RGB_4a geotags.csv",
          "250904_Nogal_RGB_4a geotags.csv",
          "250904_Nogal_RGB_4a geotags.csv",
          "250904_Nogal_RGB_4a geotags.csv",
          "250904_Nogal_RGB_4a geotags.csv",
          "250904_Nogal_RGB_4a geotags.csv",
          "250904_Nogal_RGB_4a geotags.csv",
          "250904_Nogal_RGB_4a geotags.csv",
          "250904_Nogal_RGB_4a geotags.csv",
          "250904_Nogal_RGB_4a geotags.csv",
          "250904_Nogal_RGB_4a geotags.csv",
          "250904_Nogal_RGB_4a geotags.csv",
          "250904_Nogal_RGB_4a geotags.csv",
          "250904_Nogal_RGB_4a geotags.csv",
          "250904_Nogal_RGB_4a geotags.csv",
          "250904_Nogal_RGB_4a geotags.csv",
          "250904_Nogal_RGB_4a geotags.csv",
          "250904_Nogal_RGB_4a geotags.csv",
          "250904_Nogal_RGB_4a geotags.csv",
          "250904_Nogal_RGB_4a geotags.csv",
          "250904_Nogal_RGB_4a geotags.csv",
          "250904_Nogal_RGB_4a geotags.csv",
          "250904_Nogal_RGB_4a geotags.csv",
          "250904_Nogal_RGB_4a geotags.csv",
          "250904_Nogal_RGB_4a geotags.csv",
          "250904_Nogal_RGB_4a geotags.csv",
          "250904_Nogal_RGB_4a geotags.csv",
          "250904_Nogal_RGB_4a geotags.csv",
          "250904_Nogal_RGB_4a geotags.csv",
          "250904_Nogal_RGB_4a geotags.csv",
          "250904_Nogal_RGB_4a geotags.csv",
          "250904_Nogal_RGB_4a geotags.csv",
          "250904_Nogal_RGB_4a geotags.csv",
          "250904_Nogal_RGB_4a geotags.csv",
          "250904_Nogal_RGB_4a geotags.csv",
          "250904_Nogal_RGB_4a geotags.csv",
          "250904_Nogal_RGB_4a geotags.csv",
          "250904_Nogal_RGB_4a geotags.csv",
          "250904_Nogal_RGB_4a geotags.csv",
          "250904_Nogal_RGB_4a geotags.csv",
          "250904_Nogal_RGB_4a geotags.csv",
          "250904_Nogal_RGB_4a geotags.csv",
          "250904_Nogal_RGB_4a geotags.csv",
          "250904_Nogal_RGB_4a geotags.csv",
          "250904_Nogal_RGB_4a geotags.csv",
          "250904_Nogal_RGB_4a geotags.csv",
          "250904_Nogal_RGB_4a geotags.csv",
          "250904_Nogal_RGB_4a geotags.csv",
          "250904_Nogal_RGB_4a geotags.csv",
          "250904_Nogal_RGB_4a geotags.csv",
          "250904_Nogal_RGB_4a geotags.csv",
          "250904_Nogal_RGB_4a geotags.csv",
          "250904_Nogal_RGB_4a geotags.csv",
          "250904_Nogal_RGB_4a geotags.csv",
          "250904_Nogal_RGB_4a geotags.csv",
          "250904_Nogal_RGB_4a geotags.csv",
          "250904_Nogal_RGB_4a geotags.csv",
          "250904_Nogal_RGB_4a geotags.csv",
          "250904_Nogal_RGB_4a geotags.csv",
          "250904_Nogal_RGB_4a geotags.csv",
          "250904_Nogal_RGB_4a geotags.csv",
          "250904_Nogal_RGB_4a geotags.csv",
          "250904_Nogal_RGB_4a geotags.csv",
          "250904_Nogal_RGB_4a geotags.csv",
          "250904_Nogal_RGB_4a geotags.csv",
          "250904_Nogal_RGB_4a geotags.csv",
          "250904_Nogal_RGB_4a geotags.csv",
          "250904_Nogal_RGB_4a geotags.csv",
          "250904_Nogal_RGB_4a geotags.csv",
          "250904_Nogal_RGB_4a geotags.csv",
          "250904_Nogal_RGB_4a geotags.csv",
          "250904_Nogal_RGB_4a geotags.csv",
          "250904_Nogal_RGB_4a geotags.csv",
          "250904_Nogal_RGB_4a geotags.csv",
          "250904_Nogal_RGB_4a geotags.csv",
          "250904_Nogal_RGB_4a geotags.csv",
          "250904_Nogal_RGB_4a geotags.csv",
          "250904_Nogal_RGB_4a geotags.csv",
          "250904_Nogal_RGB_4a geotags.csv",
          "250904_Nogal_RGB_4a geotags.csv",
          "250904_Nogal_RGB_4a geotags.csv",
          "250904_Nogal_RGB_4a geotags.csv",
          "250904_Nogal_RGB_4a geotags.csv",
          "250904_Nogal_RGB_4a geotags.csv",
          "250904_Nogal_RGB_4a geotags.csv",
          "250904_Nogal_RGB_4a geotags.csv",
          "250904_Nogal_RGB_4a geotags.csv",
          "250904_Nogal_RGB_4a geotags.csv",
          "250904_Nogal_RGB_4a geotags.csv",
          "250904_Nogal_RGB_4a geotags.csv",
          "250904_Nogal_RGB_4a geotags.csv",
          "250904_Nogal_RGB_4a geotags.csv",
          "250904_Nogal_RGB_4a geotags.csv",
          "250904_Nogal_RGB_4a geotags.csv",
          "250904_Nogal_RGB_4a geotags.csv",
          "250904_Nogal_RGB_4a geotags.csv",
          "250904_Nogal_RGB_4a geotags.csv",
          "250904_Nogal_RGB_4a geotags.csv",
          "250904_Nogal_RGB_4a geotags.csv",
          "250904_Nogal_RGB_4a geotags.csv",
          "250904_Nogal_RGB_4a geotags.csv",
          "250904_Nogal_RGB_4a geotags.csv",
          "250904_Nogal_RGB_4a geotags.csv",
          "250904_Nogal_RGB_4a geotags.csv",
          "250904_Nogal_RGB_4a geotags.csv",
          "250904_Nogal_RGB_4a geotags.csv",
          "250904_Nogal_RGB_4a geotags.csv",
          "250904_Nogal_RGB_4a geotags.csv",
          "250904_Nogal_RGB_4a geotags.csv",
          "250904_Nogal_RGB_4a geotags.csv",
          "250904_Nogal_RGB_4a geotags.csv",
          "250904_Nogal_RGB_4a geotags.csv",
          "250904_Nogal_RGB_4a geotags.csv",
          "250904_Nogal_RGB_4a geotags.csv",
          "250904_Nogal_RGB_4a geotags.csv",
          "250904_Nogal_RGB_4a geotags.csv",
          "250904_Nogal_RGB_4a geotags.csv",
          "250904_Nogal_RGB_4a geotags.csv",
          "250904_Nogal_RGB_4a geotags.csv",
          "250904_Nogal_RGB_4a geotags.csv",
          "250904_Nogal_RGB_4a geotags.csv",
          "250904_Nogal_RGB_4a geotags.csv",
          "250904_Nogal_RGB_4a geotags.csv",
          "250904_Nogal_RGB_4a geotags.csv",
          "250904_Nogal_RGB_4a geotags.csv",
          "250904_Nogal_RGB_4a geotags.csv",
          "250904_Nogal_RGB_4a geotags.csv",
          "250904_Nogal_RGB_4a geotags.csv",
          "250904_Nogal_RGB_4a geotags.csv",
          "250904_Nogal_RGB_4a geotags.csv",
          "250904_Nogal_RGB_4a geotags.csv",
          "250904_Nogal_RGB_4a geotags.csv",
          "250904_Nogal_RGB_4a geotags.csv",
          "250904_Nogal_RGB_4a geotags.csv",
          "250904_Nogal_RGB_4a geotags.csv",
          "250904_Nogal_RGB_4a geotags.csv",
          "250904_Nogal_RGB_4a geotags.csv",
          "250904_Nogal_RGB_4a geotags.csv",
          "250904_Nogal_RGB_4a geotags.csv",
          "250904_Nogal_RGB_4a geotags.csv",
          "250904_Nogal_RGB_4a geotags.csv",
          "250904_Nogal_RGB_4a geotags.csv",
          "250904_Nogal_RGB_4a geotags.csv",
          "250904_Nogal_RGB_4a geotags.csv",
          "250904_Nogal_RGB_4a geotags.csv",
          "250904_Nogal_RGB_4a geotags.csv",
          "250904_Nogal_RGB_4a geotags.csv",
          "250904_Nogal_RGB_4a geotags.csv",
          "250904_Nogal_RGB_4a geotags.csv",
          "250904_Nogal_RGB_4a geotags.csv",
          "250904_Nogal_RGB_4a geotags.csv",
          "250904_Nogal_RGB_4a geotags.csv",
          "250904_Nogal_RGB_4a geotags.csv",
          "250904_Nogal_RGB_4a geotags.csv",
          "250904_Nogal_RGB_4a geotags.csv",
          "250904_Nogal_RGB_4a geotags.csv",
          "250904_Nogal_RGB_4a geotags.csv",
          "250904_Nogal_RGB_4a geotags.csv",
          "250904_Nogal_RGB_4a geotags.csv",
          "250904_Nogal_RGB_4a geotags.csv",
          "250904_Nogal_RGB_4a geotags.csv",
          "250904_Nogal_RGB_4a geotags.csv",
          "250904_Nogal_RGB_4a geotags.csv",
          "250904_Nogal_RGB_4a geotags.csv",
          "250904_Nogal_RGB_4a geotags.csv",
          "250904_Nogal_RGB_4a geotags.csv",
          "250904_Nogal_RGB_4a geotags.csv",
          "250904_Nogal_RGB_4a geotags.csv",
          "250904_Nogal_RGB_4a geotags.csv",
          "250904_Nogal_RGB_4a geotags.csv",
          "250904_Nogal_RGB_4a geotags.csv",
          "250904_Nogal_RGB_4a geotags.csv",
          "250904_Nogal_RGB_4a geotags.csv",
          "250904_Nogal_RGB_4a geotags.csv",
          "250904_Nogal_RGB_4a geotags.csv",
          "250904_Nogal_RGB_4a geotags.csv",
          "250904_Nogal_RGB_4a geotags.csv",
          "250904_Nogal_RGB_4a geotags.csv",
          "250904_Nogal_RGB_4a geotags.csv",
          "250904_Nogal_RGB_4a geotags.csv",
          "250904_Nogal_RGB_4a geotags.csv",
          "250904_Nogal_RGB_4a geotags.csv",
          "250904_Nogal_RGB_4a geotags.csv",
          "250904_Nogal_RGB_4a geotags.csv",
          "250904_Nogal_RGB_4a geotags.csv",
          "250904_Nogal_RGB_4a geotags.csv",
          "250904_Nogal_RGB_4a geotags.csv",
          "250904_Nogal_RGB_4a geotags.csv",
          "250904_Nogal_RGB_4a geotags.csv",
          "250904_Nogal_RGB_4a geotags.csv",
          "250904_Nogal_RGB_4a geotags.csv",
          "250904_Nogal_RGB_4a geotags.csv",
          "250904_Nogal_RGB_4a geotags.csv",
          "250904_Nogal_RGB_4a geotags.csv",
          "250904_Nogal_RGB_4a geotags.csv",
          "250904_Nogal_RGB_4a geotags.csv",
          "250904_Nogal_RGB_4a geotags.csv",
          "250904_Nogal_RGB_4a geotags.csv",
          "250904_Nogal_RGB_4a geotags.csv",
          "250904_Nogal_RGB_4a geotags.csv",
          "250904_Nogal_RGB_4a geotags.csv",
          "250904_Nogal_RGB_4a geotags.csv",
          "250904_Nogal_RGB_4a geotags.csv",
          "250904_Nogal_RGB_4a geotags.csv",
          "250904_Nogal_RGB_4a geotags.csv",
          "250904_Nogal_RGB_4a geotags.csv",
          "250904_Nogal_RGB_4a geotags.csv",
          "250904_Nogal_RGB_4a geotags.csv",
          "250904_Nogal_RGB_4a geotags.csv",
          "250904_Nogal_RGB_4a geotags.csv",
          "250904_Nogal_RGB_4a geotags.csv",
          "250904_Nogal_RGB_4a geotags.csv",
          "250904_Nogal_RGB_4a geotags.csv",
          "250904_Nogal_RGB_4a geotags.csv",
          "250904_Nogal_RGB_4a geotags.csv",
          "250904_Nogal_RGB_4a geotags.csv",
          "250904_Nogal_RGB_4a geotags.csv",
          "250904_Nogal_RGB_4a geotags.csv",
          "250904_Nogal_RGB_4a geotags.csv",
          "250904_Nogal_RGB_4a geotags.csv",
          "250904_Nogal_RGB_4a geotags.csv",
          "250904_Nogal_RGB_4a geotags.csv",
          "250904_Nogal_RGB_4a geotags.csv",
          "250904_Nogal_RGB_4a geotags.csv",
          "250904_Nogal_RGB_4a geotags.csv",
          "250904_Nogal_RGB_4a geotags.csv",
          "250904_Nogal_RGB_4a geotags.csv",
          "250904_Nogal_RGB_4a geotags.csv",
          "250904_Nogal_RGB_4a geotags.csv",
          "250904_Nogal_RGB_4a geotags.csv",
          "250904_Nogal_RGB_4a geotags.csv",
          "250904_Nogal_RGB_4a geotags.csv",
          "250904_Nogal_RGB_4a geotags.csv",
          "250904_Nogal_RGB_4a geotags.csv",
          "250904_Nogal_RGB_4a geotags.csv",
          "250904_Nogal_RGB_4a geotags.csv",
          "250904_Nogal_RGB_4a geotags.csv",
          "250904_Nogal_RGB_4a geotags.csv",
          "250904_Nogal_RGB_4a geotags.csv",
          "250904_Nogal_RGB_4a geotags.csv",
          "250904_Nogal_RGB_4a geotags.csv",
          "250904_Nogal_RGB_4a geotags.csv",
          "250904_Nogal_RGB_4a geotags.csv",
          "250904_Nogal_RGB_4a geotags.csv",
          "250904_Nogal_RGB_4a geotags.csv",
          "250904_Nogal_RGB_4a geotags.csv",
          "250904_Nogal_RGB_4a geotags.csv",
          "250904_Nogal_RGB_4a geotags.csv",
          "250904_Nogal_RGB_4a geotags.csv",
          "250904_Nogal_RGB_4a geotags.csv",
          "250904_Nogal_RGB_4a geotags.csv",
          "250904_Nogal_RGB_4a geotags.csv",
          "250904_Nogal_RGB_4a geotags.csv",
          "250904_Nogal_RGB_4a geotags.csv",
          "250904_Nogal_RGB_4a geotags.csv",
          "250904_Nogal_RGB_4a geotags.csv",
          "250904_Nogal_RGB_4a geotags.csv",
          "250904_Nogal_RGB_4a geotags.csv",
          "250904_Nogal_RGB_4a geotags.csv",
          "250904_Nogal_RGB_4a geotags.csv",
          "250904_Nogal_RGB_4a geotags.csv",
          "250904_Nogal_RGB_4a geotags.csv",
          "250904_Nogal_RGB_4a geotags.csv",
          "250904_Nogal_RGB_4a geotags.csv",
          "250904_Nogal_RGB_4a geotags.csv",
          "250904_Nogal_RGB_4a geotags.csv",
          "250904_Nogal_RGB_4a geotags.csv",
          "250904_Nogal_RGB_4a geotags.csv",
          "250904_Nogal_RGB_4a geotags.csv",
          "250904_Nogal_RGB_4a geotags.csv",
          "250904_Nogal_RGB_4a geotags.csv",
          "250904_Nogal_RGB_4a geotags.csv",
          "250904_Nogal_RGB_4a geotags.csv",
          "250904_Nogal_RGB_4a geotags.csv",
          "250904_Nogal_RGB_4a geotags.csv",
          "250904_Nogal_RGB_4a geotags.csv",
          "250904_Nogal_RGB_4a geotags.csv",
          "250904_Nogal_RGB_4a geotags.csv",
          "250904_Nogal_RGB_4a geotags.csv",
          "250904_Nogal_RGB_4a geotags.csv",
          "250904_Nogal_RGB_4a geotags.csv",
          "250904_Nogal_RGB_4a geotags.csv",
          "250904_Nogal_RGB_4a geotags.csv",
          "250904_Nogal_RGB_4a geotags.csv",
          "250904_Nogal_RGB_4a geotags.csv",
          "250904_Nogal_RGB_4a geotags.csv",
          "250904_Nogal_RGB_4a geotags.csv",
          "250904_Nogal_RGB_4a geotags.csv",
          "250904_Nogal_RGB_4a geotags.csv",
          "250904_Nogal_RGB_4a geotags.csv",
          "250904_Nogal_RGB_4a geotags.csv",
          "250904_Nogal_RGB_4a geotags.csv",
          "250904_Nogal_RGB_4a geotags.csv",
          "250904_Nogal_RGB_4a geotags.csv",
          "250904_Nogal_RGB_4a geotags.csv",
          "250904_Nogal_RGB_4a geotags.csv",
          "250904_Nogal_RGB_4a geotags.csv",
          "250904_Nogal_RGB_4a geotags.csv",
          "250904_Nogal_RGB_4a geotags.csv",
          "250904_Nogal_RGB_4a geotags.csv",
          "250904_Nogal_RGB_4a geotags.csv",
          "250904_Nogal_RGB_4a geotags.csv",
          "250904_Nogal_RGB_4a geotags.csv",
          "250904_Nogal_RGB_4a geotags.csv",
          "250904_Nogal_RGB_4a geotags.csv",
          "250904_Nogal_RGB_4a geotags.csv",
          "250904_Nogal_RGB_4a geotags.csv",
          "250904_Nogal_RGB_4a geotags.csv",
          "250904_Nogal_RGB_4a geotags.csv",
          "250904_Nogal_RGB_4a geotags.csv",
          "250904_Nogal_RGB_4a geotags.csv",
          "250904_Nogal_RGB_4a geotags.csv",
          "250904_Nogal_RGB_4a geotags.csv",
          "250904_Nogal_RGB_4a geotags.csv",
          "250904_Nogal_RGB_4a geotags.csv",
          "250904_Nogal_RGB_4a geotags.csv",
          "250904_Nogal_RGB_4a geotags.csv",
          "250904_Nogal_RGB_4a geotags.csv",
          "250904_Nogal_RGB_4a geotags.csv",
          "250904_Nogal_RGB_4a geotags.csv",
          "250904_Nogal_RGB_4a geotags.csv",
          "250904_Nogal_RGB_4a geotags.csv",
          "250904_Nogal_RGB_4a geotags.csv",
          "250904_Nogal_RGB_4a geotags.csv",
          "250904_Nogal_RGB_4a geotags.csv",
          "250904_Nogal_RGB_4a geotags.csv",
          "250904_Nogal_RGB_4a geotags.csv",
          "250904_Nogal_RGB_4a geotags.csv",
          "250904_Nogal_RGB_4a geotags.csv",
          "250904_Nogal_RGB_4a geotags.csv",
          "250904_Nogal_RGB_4a geotags.csv",
          "250904_Nogal_RGB_4a geotags.csv",
          "250904_Nogal_RGB_4a geotags.csv",
          "250904_Nogal_RGB_4a geotags.csv",
          "250904_Nogal_RGB_4a geotags.csv",
          "250904_Nogal_RGB_4a geotags.csv",
          "250904_Nogal_RGB_4a geotags.csv",
          "250904_Nogal_RGB_4a geotags.csv",
          "250904_Nogal_RGB_4a geotags.csv",
          "250904_Nogal_RGB_4a geotags.csv",
          "250904_Nogal_RGB_4a geotags.csv",
          "250904_Nogal_RGB_4a geotags.csv",
          "250904_Nogal_RGB_4a geotags.csv",
          "250904_Nogal_RGB_4a geotags.csv",
          "250904_Nogal_RGB_4a geotags.csv",
          "250904_Nogal_RGB_4a geotags.csv",
          "250904_Nogal_RGB_4a geotags.csv",
          "250904_Nogal_RGB_4a geotags.csv",
          "250904_Nogal_RGB_4a geotags.csv",
          "250904_Nogal_RGB_4a geotags.csv",
          "250904_Nogal_RGB_4a geotags.csv",
          "250904_Nogal_RGB_4a geotags.csv",
          "250904_Nogal_RGB_4a geotags.csv",
          "250904_Nogal_RGB_4a geotags.csv",
          "250904_Nogal_RGB_4a geotags.csv",
          "250904_Nogal_RGB_4a geotags.csv",
          "250904_Nogal_RGB_4a geotags.csv",
          "250904_Nogal_RGB_4a geotags.csv",
          "250904_Nogal_RGB_4a geotags.csv",
          "250904_Nogal_RGB_4a geotags.csv",
          "250904_Nogal_RGB_4a geotags.csv",
          "250904_Nogal_RGB_4a geotags.csv",
          "250904_Nogal_RGB_4a geotags.csv",
          "250904_Nogal_RGB_4a geotags.csv",
          "250904_Nogal_RGB_4a geotags.csv",
          "250904_Nogal_RGB_4a geotags.csv",
          "250904_Nogal_RGB_4a geotags.csv",
          "250904_Nogal_RGB_4a geotags.csv",
          "250904_Nogal_RGB_4a geotags.csv",
          "250904_Nogal_RGB_4a geotags.csv",
          "250904_Nogal_RGB_4a geotags.csv",
          "250904_Nogal_RGB_4a geotags.csv",
          "250904_Nogal_RGB_4a geotags.csv",
          "250904_Nogal_RGB_4a geotags.csv",
          "250904_Nogal_RGB_4a geotags.csv",
          "250904_Nogal_RGB_4a geotags.csv",
          "250904_Nogal_RGB_4a geotags.csv",
          "250904_Nogal_RGB_4a geotags.csv",
          "250904_Nogal_RGB_4a geotags.csv",
          "250904_Nogal_RGB_4a geotags.csv",
          "250904_Nogal_RGB_4a geotags.csv",
          "250904_Nogal_RGB_4a geotags.csv",
          "250904_Nogal_RGB_4a geotags.csv",
          "250904_Nogal_RGB_4a geotags.csv",
          "250904_Nogal_RGB_4a geotags.csv",
          "250904_Nogal_RGB_4a geotags.csv",
          "250904_Nogal_RGB_4a geotags.csv",
          "250904_Nogal_RGB_4a geotags.csv",
          "250904_Nogal_RGB_4a geotags.csv",
          "250904_Nogal_RGB_4a geotags.csv",
          "250904_Nogal_RGB_4a geotags.csv",
          "250904_Nogal_RGB_4a geotags.csv",
          "250904_Nogal_RGB_4a geotags.csv",
          "250904_Nogal_RGB_4a geotags.csv",
          "250904_Nogal_RGB_4a geotags.csv",
          "250904_Nogal_RGB_4a geotags.csv",
          "250904_Nogal_RGB_4a geotags.csv",
          "250904_Nogal_RGB_4a geotags.csv",
          "250904_Nogal_RGB_4a geotags.csv",
          "250904_Nogal_RGB_4a geotags.csv",
          "250904_Nogal_RGB_4a geotags.csv",
          "250904_Nogal_RGB_4a geotags.csv",
          "250904_Nogal_RGB_4a geotags.csv",
          "250904_Nogal_RGB_4a geotags.csv",
          "250904_Nogal_RGB_4a geotags.csv",
          "250904_Nogal_RGB_4a geotags.csv",
          "250904_Nogal_RGB_4a geotags.csv",
          "250904_Nogal_RGB_4a geotags.csv",
          "250904_Nogal_RGB_4a geotags.csv",
          "250904_Nogal_RGB_4a geotags.csv",
          "250904_Nogal_RGB_4a geotags.csv",
          "250904_Nogal_RGB_4a geotags.csv",
          "250904_Nogal_RGB_4a geotags.csv",
          "250904_Nogal_RGB_4a geotags.csv",
          "250904_Nogal_RGB_4a geotags.csv",
          "250904_Nogal_RGB_4a geotags.csv",
          "250904_Nogal_RGB_4a geotags.csv",
          "250904_Nogal_RGB_4a geotags.csv",
          "250904_Nogal_RGB_4a geotags.csv",
          "250904_Nogal_RGB_4a geotags.csv",
          "250904_Nogal_RGB_4a geotags.csv",
          "250904_Nogal_RGB_4a geotags.csv",
          "250904_Nogal_RGB_4a geotags.csv",
          "250904_Nogal_RGB_4a geotags.csv",
          "250904_Nogal_RGB_4a geotags.csv",
          "250904_Nogal_RGB_4a geotags.csv",
          "250904_Nogal_RGB_4a geotags.csv",
          "250904_Nogal_RGB_4a geotags.csv",
          "250904_Nogal_RGB_4a geotags.csv",
          "250904_Nogal_RGB_4a geotags.csv",
          "250904_Nogal_RGB_4a geotags.csv",
          "250904_Nogal_RGB_4a geotags.csv",
          "250904_Nogal_RGB_4a geotags.csv",
          "250904_Nogal_RGB_4a geotags.csv",
          "250904_Nogal_RGB_4a geotags.csv",
          "250904_Nogal_RGB_4a geotags.csv",
          "250904_Nogal_RGB_4a geotags.csv",
          "250904_Nogal_RGB_4a geotags.csv",
          "250904_Nogal_RGB_4a geotags.csv",
          "250904_Nogal_RGB_4a geotags.csv",
          "250904_Nogal_RGB_4a geotags.csv",
          "250904_Nogal_RGB_4a geotags.csv",
          "250904_Nogal_RGB_4a geotags.csv",
          "250904_Nogal_RGB_4a geotags.csv",
          "250904_Nogal_RGB_4a geotags.csv",
          "250904_Nogal_RGB_4a geotags.csv",
          "250904_Nogal_RGB_4a geotags.csv",
          "250904_Nogal_RGB_4a geotags.csv",
          "250904_Nogal_RGB_4a geotags.csv",
          "250904_Nogal_RGB_4a geotags.csv",
          "250904_Nogal_RGB_4a geotags.csv",
          "250904_Nogal_RGB_4a geotags.csv",
          "250904_Nogal_RGB_4a geotags.csv",
          "250904_Nogal_RGB_4a geotags.csv",
          "250904_Nogal_RGB_4a geotags.csv",
          "250904_Nogal_RGB_4a geotags.csv",
          "250904_Nogal_RGB_4a geotags.csv",
          "250904_Nogal_RGB_4a geotags.csv",
          "250904_Nogal_RGB_4a geotags.csv",
          "250904_Nogal_RGB_4a geotags.csv",
          "250904_Nogal_RGB_4a geotags.csv",
          "250904_Nogal_RGB_4a geotags.csv",
          "250904_Nogal_RGB_4a geotags.csv",
          "250904_Nogal_RGB_4a geotags.csv",
          "250904_Nogal_RGB_4a geotags.csv",
          "250904_Nogal_RGB_4a geotags.csv",
          "250904_Nogal_RGB_4a geotags.csv",
          "250904_Nogal_RGB_4a geotags.csv",
          "250904_Nogal_RGB_4a geotags.csv",
          "250904_Nogal_RGB_4a geotags.csv",
          "250904_Nogal_RGB_4a geotags.csv",
          "250904_Nogal_RGB_4a geotags.csv",
          "250904_Nogal_RGB_4a geotags.csv",
          "250904_Nogal_RGB_4a geotags.csv",
          "250904_Nogal_RGB_4a geotags.csv",
          "250904_Nogal_RGB_4a geotags.csv",
          "250904_Nogal_RGB_4a geotags.csv",
          "250904_Nogal_RGB_4a geotags.csv",
          "250904_Nogal_RGB_4a geotags.csv",
          "250904_Nogal_RGB_4a geotags.csv",
          "250904_Nogal_RGB_4a geotags.csv",
          "250904_Nogal_RGB_4a geotags.csv",
          "250904_Nogal_RGB_4a geotags.csv",
          "250904_Nogal_RGB_4a geotags.csv",
          "250904_Nogal_RGB_4a geotags.csv",
          "250904_Nogal_RGB_4a geotags.csv",
          "250904_Nogal_RGB_4a geotags.csv",
          "250904_Nogal_RGB_4a geotags.csv",
          "250904_Nogal_RGB_4a geotags.csv",
          "250904_Nogal_RGB_4a geotags.csv",
          "250904_Nogal_RGB_4a geotags.csv",
          "250904_Nogal_RGB_4a geotags.csv",
          "250904_Nogal_RGB_4a geotags.csv",
          "250904_Nogal_RGB_4a geotags.csv",
          "250904_Nogal_RGB_4a geotags.csv",
          "250904_Nogal_RGB_4a geotags.csv",
          "250904_Nogal_RGB_4a geotags.csv",
          "250904_Nogal_RGB_4a geotags.csv",
          "250904_Nogal_RGB_4a geotags.csv",
          "250904_Nogal_RGB_4a geotags.csv",
          "250904_Nogal_RGB_4a geotags.csv",
          "250904_Nogal_RGB_4a geotags.csv",
          "250904_Nogal_RGB_4a geotags.csv",
          "250904_Nogal_RGB_4a geotags.csv",
          "250904_Nogal_RGB_4a geotags.csv",
          "250904_Nogal_RGB_4a geotags.csv",
          "250904_Nogal_RGB_4a geotags.csv",
          "250904_Nogal_RGB_4a geotags.csv",
          "250904_Nogal_RGB_4a geotags.csv",
          "250904_Nogal_RGB_4b geotags.csv",
          "250904_Nogal_RGB_4b geotags.csv",
          "250904_Nogal_RGB_4b geotags.csv",
          "250904_Nogal_RGB_4b geotags.csv",
          "250904_Nogal_RGB_4b geotags.csv",
          "250904_Nogal_RGB_4b geotags.csv",
          "250904_Nogal_RGB_4b geotags.csv",
          "250904_Nogal_RGB_4b geotags.csv",
          "250904_Nogal_RGB_4b geotags.csv",
          "250904_Nogal_RGB_4b geotags.csv",
          "250904_Nogal_RGB_4b geotags.csv",
          "250904_Nogal_RGB_4b geotags.csv",
          "250904_Nogal_RGB_4b geotags.csv",
          "250904_Nogal_RGB_4b geotags.csv",
          "250904_Nogal_RGB_4b geotags.csv",
          "250904_Nogal_RGB_4b geotags.csv",
          "250904_Nogal_RGB_4b geotags.csv",
          "250904_Nogal_RGB_4b geotags.csv",
          "250904_Nogal_RGB_4b geotags.csv",
          "250904_Nogal_RGB_4b geotags.csv",
          "250904_Nogal_RGB_4b geotags.csv",
          "250904_Nogal_RGB_4b geotags.csv",
          "250904_Nogal_RGB_4b geotags.csv",
          "250904_Nogal_RGB_4b geotags.csv",
          "250904_Nogal_RGB_4b geotags.csv",
          "250904_Nogal_RGB_4b geotags.csv",
          "250904_Nogal_RGB_4b geotags.csv",
          "250904_Nogal_RGB_4b geotags.csv",
          "250904_Nogal_RGB_4b geotags.csv",
          "250904_Nogal_RGB_4b geotags.csv",
          "250904_Nogal_RGB_4b geotags.csv",
          "250904_Nogal_RGB_4b geotags.csv",
          "250904_Nogal_RGB_4b geotags.csv",
          "250904_Nogal_RGB_4b geotags.csv",
          "250904_Nogal_RGB_4b geotags.csv",
          "250904_Nogal_RGB_4b geotags.csv",
          "250904_Nogal_RGB_4b geotags.csv",
          "250904_Nogal_RGB_4b geotags.csv",
          "250904_Nogal_RGB_4b geotags.csv",
          "250904_Nogal_RGB_4b geotags.csv",
          "250904_Nogal_RGB_4b geotags.csv",
          "250904_Nogal_RGB_4b geotags.csv",
          "250904_Nogal_RGB_4b geotags.csv",
          "250904_Nogal_RGB_4b geotags.csv",
          "250904_Nogal_RGB_4b geotags.csv",
          "250904_Nogal_RGB_4b geotags.csv",
          "250904_Nogal_RGB_4b geotags.csv",
          "250904_Nogal_RGB_4b geotags.csv",
          "250904_Nogal_RGB_4b geotags.csv",
          "250904_Nogal_RGB_4b geotags.csv",
          "250904_Nogal_RGB_4b geotags.csv",
          "250904_Nogal_RGB_4b geotags.csv",
          "250904_Nogal_RGB_4b geotags.csv",
          "250904_Nogal_RGB_4b geotags.csv",
          "250904_Nogal_RGB_4b geotags.csv",
          "250904_Nogal_RGB_4b geotags.csv",
          "250904_Nogal_RGB_4b geotags.csv",
          "250904_Nogal_RGB_4b geotags.csv",
          "250904_Nogal_RGB_4b geotags.csv",
          "250904_Nogal_RGB_4b geotags.csv",
          "250904_Nogal_RGB_4b geotags.csv",
          "250904_Nogal_RGB_4b geotags.csv",
          "250904_Nogal_RGB_4b geotags.csv",
          "250904_Nogal_RGB_4b geotags.csv",
          "250904_Nogal_RGB_4b geotags.csv",
          "250904_Nogal_RGB_4b geotags.csv",
          "250904_Nogal_RGB_4b geotags.csv",
          "250904_Nogal_RGB_4b geotags.csv",
          "250904_Nogal_RGB_4b geotags.csv",
          "250904_Nogal_RGB_4b geotags.csv",
          "250904_Nogal_RGB_4b geotags.csv",
          "250904_Nogal_RGB_4b geotags.csv",
          "250904_Nogal_RGB_4b geotags.csv",
          "250904_Nogal_RGB_4b geotags.csv",
          "250904_Nogal_RGB_4b geotags.csv",
          "250904_Nogal_RGB_4b geotags.csv",
          "250904_Nogal_RGB_4b geotags.csv",
          "250904_Nogal_RGB_4b geotags.csv",
          "250904_Nogal_RGB_4b geotags.csv",
          "250904_Nogal_RGB_4b geotags.csv",
          "250904_Nogal_RGB_4b geotags.csv",
          "250904_Nogal_RGB_4b geotags.csv",
          "250904_Nogal_RGB_4b geotags.csv",
          "250904_Nogal_RGB_4b geotags.csv",
          "250904_Nogal_RGB_4b geotags.csv",
          "250904_Nogal_RGB_4b geotags.csv",
          "250904_Nogal_RGB_4b geotags.csv",
          "250904_Nogal_RGB_4b geotags.csv",
          "250904_Nogal_RGB_4b geotags.csv",
          "250904_Nogal_RGB_4b geotags.csv",
          "250904_Nogal_RGB_4b geotags.csv",
          "250904_Nogal_RGB_4b geotags.csv",
          "250904_Nogal_RGB_4b geotags.csv",
          "250904_Nogal_RGB_4b geotags.csv",
          "250904_Nogal_RGB_4b geotags.csv",
          "250904_Nogal_RGB_4b geotags.csv",
          "250904_Nogal_RGB_4b geotags.csv",
          "250904_Nogal_RGB_4b geotags.csv",
          "250904_Nogal_RGB_4b geotags.csv",
          "250904_Nogal_RGB_4b geotags.csv",
          "250904_Nogal_RGB_4b geotags.csv",
          "250904_Nogal_RGB_4b geotags.csv",
          "250904_Nogal_RGB_4b geotags.csv",
          "250904_Nogal_RGB_4b geotags.csv",
          "250904_Nogal_RGB_4b geotags.csv",
          "250904_Nogal_RGB_4b geotags.csv",
          "250904_Nogal_RGB_4b geotags.csv",
          "250904_Nogal_RGB_4b geotags.csv",
          "250904_Nogal_RGB_4b geotags.csv",
          "250904_Nogal_RGB_4b geotags.csv",
          "250904_Nogal_RGB_4b geotags.csv",
          "250904_Nogal_RGB_4b geotags.csv",
          "250904_Nogal_RGB_4b geotags.csv",
          "250904_Nogal_RGB_4b geotags.csv",
          "250904_Nogal_RGB_4b geotags.csv",
          "250904_Nogal_RGB_4b geotags.csv",
          "250904_Nogal_RGB_4b geotags.csv",
          "250904_Nogal_RGB_4b geotags.csv",
          "250904_Nogal_RGB_4b geotags.csv",
          "250904_Nogal_RGB_4b geotags.csv",
          "250904_Nogal_RGB_4b geotags.csv",
          "250904_Nogal_RGB_4b geotags.csv",
          "250904_Nogal_RGB_4b geotags.csv",
          "250904_Nogal_RGB_4b geotags.csv",
          "250904_Nogal_RGB_4b geotags.csv",
          "250904_Nogal_RGB_4b geotags.csv",
          "250904_Nogal_RGB_4b geotags.csv",
          "250904_Nogal_RGB_4b geotags.csv",
          "250904_Nogal_RGB_4b geotags.csv",
          "250904_Nogal_RGB_4b geotags.csv",
          "250904_Nogal_RGB_4b geotags.csv",
          "250904_Nogal_RGB_4b geotags.csv",
          "250904_Nogal_RGB_4b geotags.csv",
          "250904_Nogal_RGB_4b geotags.csv",
          "250904_Nogal_RGB_4b geotags.csv",
          "250904_Nogal_RGB_4b geotags.csv",
          "250904_Nogal_RGB_4b geotags.csv",
          "250904_Nogal_RGB_4b geotags.csv",
          "250904_Nogal_RGB_4b geotags.csv",
          "250904_Nogal_RGB_4b geotags.csv",
          "250904_Nogal_RGB_4b geotags.csv",
          "250904_Nogal_RGB_4b geotags.csv",
          "250904_Nogal_RGB_4b geotags.csv",
          "250904_Nogal_RGB_4b geotags.csv",
          "250904_Nogal_RGB_4b geotags.csv",
          "250904_Nogal_RGB_4b geotags.csv",
          "250904_Nogal_RGB_4b geotags.csv",
          "250904_Nogal_RGB_4b geotags.csv",
          "250904_Nogal_RGB_4b geotags.csv",
          "250904_Nogal_RGB_4b geotags.csv",
          "250904_Nogal_RGB_4b geotags.csv",
          "250904_Nogal_RGB_4b geotags.csv",
          "250904_Nogal_RGB_4b geotags.csv",
          "250904_Nogal_RGB_4b geotags.csv",
          "250904_Nogal_RGB_4b geotags.csv",
          "250904_Nogal_RGB_4b geotags.csv",
          "250904_Nogal_RGB_4b geotags.csv",
          "250904_Nogal_RGB_4b geotags.csv",
          "250904_Nogal_RGB_4b geotags.csv",
          "250904_Nogal_RGB_4b geotags.csv",
          "250904_Nogal_RGB_4b geotags.csv",
          "250904_Nogal_RGB_4b geotags.csv",
          "250904_Nogal_RGB_4b geotags.csv",
          "250904_Nogal_RGB_4b geotags.csv",
          "250904_Nogal_RGB_4b geotags.csv",
          "250904_Nogal_RGB_4b geotags.csv",
          "250904_Nogal_RGB_4b geotags.csv",
          "250904_Nogal_RGB_4b geotags.csv",
          "250904_Nogal_RGB_4b geotags.csv"
         ],
         "lat": {
          "bdata": "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",
          "dtype": "f8"
         },
         "legendgroup": "",
         "lon": {
          "bdata": "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",
          "dtype": "f8"
         },
         "marker": {
          "color": "#636efa",
          "opacity": 1,
          "size": 4
         },
         "mode": "markers",
         "name": "",
         "showlegend": false,
         "subplot": "map",
         "type": "scattermap"
        }
       ],
       "layout": {
        "height": 600,
        "legend": {
         "tracegroupgap": 0
        },
        "map": {
         "center": {
          "lat": 33.530407417710336,
          "lon": -107.18588809893292
         },
         "domain": {
          "x": [
           0,
           1
          ],
          "y": [
           0,
           1
          ]
         },
         "style": "open-street-map",
         "zoom": 12
        },
        "mapbox": {
         "center": {
          "lat": 33.530498980480644,
          "lon": -107.18576652380338
         },
         "zoom": 12
        },
        "margin": {
         "b": 0,
         "l": 0,
         "r": 0,
         "t": 40
        },
        "template": {
         "data": {
          "bar": [
           {
            "error_x": {
             "color": "#2a3f5f"
            },
            "error_y": {
             "color": "#2a3f5f"
            },
            "marker": {
             "line": {
              "color": "#E5ECF6",
              "width": 0.5
             },
             "pattern": {
              "fillmode": "overlay",
              "size": 10,
              "solidity": 0.2
             }
            },
            "type": "bar"
           }
          ],
          "barpolar": [
           {
            "marker": {
             "line": {
              "color": "#E5ECF6",
              "width": 0.5
             },
             "pattern": {
              "fillmode": "overlay",
              "size": 10,
              "solidity": 0.2
             }
            },
            "type": "barpolar"
           }
          ],
          "carpet": [
           {
            "aaxis": {
             "endlinecolor": "#2a3f5f",
             "gridcolor": "white",
             "linecolor": "white",
             "minorgridcolor": "white",
             "startlinecolor": "#2a3f5f"
            },
            "baxis": {
             "endlinecolor": "#2a3f5f",
             "gridcolor": "white",
             "linecolor": "white",
             "minorgridcolor": "white",
             "startlinecolor": "#2a3f5f"
            },
            "type": "carpet"
           }
          ],
          "choropleth": [
           {
            "colorbar": {
             "outlinewidth": 0,
             "ticks": ""
            },
            "type": "choropleth"
           }
          ],
          "contour": [
           {
            "colorbar": {
             "outlinewidth": 0,
             "ticks": ""
            },
            "colorscale": [
             [
              0,
              "#0d0887"
             ],
             [
              0.1111111111111111,
              "#46039f"
             ],
             [
              0.2222222222222222,
              "#7201a8"
             ],
             [
              0.3333333333333333,
              "#9c179e"
             ],
             [
              0.4444444444444444,
              "#bd3786"
             ],
             [
              0.5555555555555556,
              "#d8576b"
             ],
             [
              0.6666666666666666,
              "#ed7953"
             ],
             [
              0.7777777777777778,
              "#fb9f3a"
             ],
             [
              0.8888888888888888,
              "#fdca26"
             ],
             [
              1,
              "#f0f921"
             ]
            ],
            "type": "contour"
           }
          ],
          "contourcarpet": [
           {
            "colorbar": {
             "outlinewidth": 0,
             "ticks": ""
            },
            "type": "contourcarpet"
           }
          ],
          "heatmap": [
           {
            "colorbar": {
             "outlinewidth": 0,
             "ticks": ""
            },
            "colorscale": [
             [
              0,
              "#0d0887"
             ],
             [
              0.1111111111111111,
              "#46039f"
             ],
             [
              0.2222222222222222,
              "#7201a8"
             ],
             [
              0.3333333333333333,
              "#9c179e"
             ],
             [
              0.4444444444444444,
              "#bd3786"
             ],
             [
              0.5555555555555556,
              "#d8576b"
             ],
             [
              0.6666666666666666,
              "#ed7953"
             ],
             [
              0.7777777777777778,
              "#fb9f3a"
             ],
             [
              0.8888888888888888,
              "#fdca26"
             ],
             [
              1,
              "#f0f921"
             ]
            ],
            "type": "heatmap"
           }
          ],
          "histogram": [
           {
            "marker": {
             "pattern": {
              "fillmode": "overlay",
              "size": 10,
              "solidity": 0.2
             }
            },
            "type": "histogram"
           }
          ],
          "histogram2d": [
           {
            "colorbar": {
             "outlinewidth": 0,
             "ticks": ""
            },
            "colorscale": [
             [
              0,
              "#0d0887"
             ],
             [
              0.1111111111111111,
              "#46039f"
             ],
             [
              0.2222222222222222,
              "#7201a8"
             ],
             [
              0.3333333333333333,
              "#9c179e"
             ],
             [
              0.4444444444444444,
              "#bd3786"
             ],
             [
              0.5555555555555556,
              "#d8576b"
             ],
             [
              0.6666666666666666,
              "#ed7953"
             ],
             [
              0.7777777777777778,
              "#fb9f3a"
             ],
             [
              0.8888888888888888,
              "#fdca26"
             ],
             [
              1,
              "#f0f921"
             ]
            ],
            "type": "histogram2d"
           }
          ],
          "histogram2dcontour": [
           {
            "colorbar": {
             "outlinewidth": 0,
             "ticks": ""
            },
            "colorscale": [
             [
              0,
              "#0d0887"
             ],
             [
              0.1111111111111111,
              "#46039f"
             ],
             [
              0.2222222222222222,
              "#7201a8"
             ],
             [
              0.3333333333333333,
              "#9c179e"
             ],
             [
              0.4444444444444444,
              "#bd3786"
             ],
             [
              0.5555555555555556,
              "#d8576b"
             ],
             [
              0.6666666666666666,
              "#ed7953"
             ],
             [
              0.7777777777777778,
              "#fb9f3a"
             ],
             [
              0.8888888888888888,
              "#fdca26"
             ],
             [
              1,
              "#f0f921"
             ]
            ],
            "type": "histogram2dcontour"
           }
          ],
          "mesh3d": [
           {
            "colorbar": {
             "outlinewidth": 0,
             "ticks": ""
            },
            "type": "mesh3d"
           }
          ],
          "parcoords": [
           {
            "line": {
             "colorbar": {
              "outlinewidth": 0,
              "ticks": ""
             }
            },
            "type": "parcoords"
           }
          ],
          "pie": [
           {
            "automargin": true,
            "type": "pie"
           }
          ],
          "scatter": [
           {
            "fillpattern": {
             "fillmode": "overlay",
             "size": 10,
             "solidity": 0.2
            },
            "type": "scatter"
           }
          ],
          "scatter3d": [
           {
            "line": {
             "colorbar": {
              "outlinewidth": 0,
              "ticks": ""
             }
            },
            "marker": {
             "colorbar": {
              "outlinewidth": 0,
              "ticks": ""
             }
            },
            "type": "scatter3d"
           }
          ],
          "scattercarpet": [
           {
            "marker": {
             "colorbar": {
              "outlinewidth": 0,
              "ticks": ""
             }
            },
            "type": "scattercarpet"
           }
          ],
          "scattergeo": [
           {
            "marker": {
             "colorbar": {
              "outlinewidth": 0,
              "ticks": ""
             }
            },
            "type": "scattergeo"
           }
          ],
          "scattergl": [
           {
            "marker": {
             "colorbar": {
              "outlinewidth": 0,
              "ticks": ""
             }
            },
            "type": "scattergl"
           }
          ],
          "scattermap": [
           {
            "marker": {
             "colorbar": {
              "outlinewidth": 0,
              "ticks": ""
             }
            },
            "type": "scattermap"
           }
          ],
          "scattermapbox": [
           {
            "marker": {
             "colorbar": {
              "outlinewidth": 0,
              "ticks": ""
             }
            },
            "type": "scattermapbox"
           }
          ],
          "scatterpolar": [
           {
            "marker": {
             "colorbar": {
              "outlinewidth": 0,
              "ticks": ""
             }
            },
            "type": "scatterpolar"
           }
          ],
          "scatterpolargl": [
           {
            "marker": {
             "colorbar": {
              "outlinewidth": 0,
              "ticks": ""
             }
            },
            "type": "scatterpolargl"
           }
          ],
          "scatterternary": [
           {
            "marker": {
             "colorbar": {
              "outlinewidth": 0,
              "ticks": ""
             }
            },
            "type": "scatterternary"
           }
          ],
          "surface": [
           {
            "colorbar": {
             "outlinewidth": 0,
             "ticks": ""
            },
            "colorscale": [
             [
              0,
              "#0d0887"
             ],
             [
              0.1111111111111111,
              "#46039f"
             ],
             [
              0.2222222222222222,
              "#7201a8"
             ],
             [
              0.3333333333333333,
              "#9c179e"
             ],
             [
              0.4444444444444444,
              "#bd3786"
             ],
             [
              0.5555555555555556,
              "#d8576b"
             ],
             [
              0.6666666666666666,
              "#ed7953"
             ],
             [
              0.7777777777777778,
              "#fb9f3a"
             ],
             [
              0.8888888888888888,
              "#fdca26"
             ],
             [
              1,
              "#f0f921"
             ]
            ],
            "type": "surface"
           }
          ],
          "table": [
           {
            "cells": {
             "fill": {
              "color": "#EBF0F8"
             },
             "line": {
              "color": "white"
             }
            },
            "header": {
             "fill": {
              "color": "#C8D4E3"
             },
             "line": {
              "color": "white"
             }
            },
            "type": "table"
           }
          ]
         },
         "layout": {
          "annotationdefaults": {
           "arrowcolor": "#2a3f5f",
           "arrowhead": 0,
           "arrowwidth": 1
          },
          "autotypenumbers": "strict",
          "coloraxis": {
           "colorbar": {
            "outlinewidth": 0,
            "ticks": ""
           }
          },
          "colorscale": {
           "diverging": [
            [
             0,
             "#8e0152"
            ],
            [
             0.1,
             "#c51b7d"
            ],
            [
             0.2,
             "#de77ae"
            ],
            [
             0.3,
             "#f1b6da"
            ],
            [
             0.4,
             "#fde0ef"
            ],
            [
             0.5,
             "#f7f7f7"
            ],
            [
             0.6,
             "#e6f5d0"
            ],
            [
             0.7,
             "#b8e186"
            ],
            [
             0.8,
             "#7fbc41"
            ],
            [
             0.9,
             "#4d9221"
            ],
            [
             1,
             "#276419"
            ]
           ],
           "sequential": [
            [
             0,
             "#0d0887"
            ],
            [
             0.1111111111111111,
             "#46039f"
            ],
            [
             0.2222222222222222,
             "#7201a8"
            ],
            [
             0.3333333333333333,
             "#9c179e"
            ],
            [
             0.4444444444444444,
             "#bd3786"
            ],
            [
             0.5555555555555556,
             "#d8576b"
            ],
            [
             0.6666666666666666,
             "#ed7953"
            ],
            [
             0.7777777777777778,
             "#fb9f3a"
            ],
            [
             0.8888888888888888,
             "#fdca26"
            ],
            [
             1,
             "#f0f921"
            ]
           ],
           "sequentialminus": [
            [
             0,
             "#0d0887"
            ],
            [
             0.1111111111111111,
             "#46039f"
            ],
            [
             0.2222222222222222,
             "#7201a8"
            ],
            [
             0.3333333333333333,
             "#9c179e"
            ],
            [
             0.4444444444444444,
             "#bd3786"
            ],
            [
             0.5555555555555556,
             "#d8576b"
            ],
            [
             0.6666666666666666,
             "#ed7953"
            ],
            [
             0.7777777777777778,
             "#fb9f3a"
            ],
            [
             0.8888888888888888,
             "#fdca26"
            ],
            [
             1,
             "#f0f921"
            ]
           ]
          },
          "colorway": [
           "#636efa",
           "#EF553B",
           "#00cc96",
           "#ab63fa",
           "#FFA15A",
           "#19d3f3",
           "#FF6692",
           "#B6E880",
           "#FF97FF",
           "#FECB52"
          ],
          "font": {
           "color": "#2a3f5f"
          },
          "geo": {
           "bgcolor": "white",
           "lakecolor": "white",
           "landcolor": "#E5ECF6",
           "showlakes": true,
           "showland": true,
           "subunitcolor": "white"
          },
          "hoverlabel": {
           "align": "left"
          },
          "hovermode": "closest",
          "mapbox": {
           "style": "light"
          },
          "paper_bgcolor": "white",
          "plot_bgcolor": "#E5ECF6",
          "polar": {
           "angularaxis": {
            "gridcolor": "white",
            "linecolor": "white",
            "ticks": ""
           },
           "bgcolor": "#E5ECF6",
           "radialaxis": {
            "gridcolor": "white",
            "linecolor": "white",
            "ticks": ""
           }
          },
          "scene": {
           "xaxis": {
            "backgroundcolor": "#E5ECF6",
            "gridcolor": "white",
            "gridwidth": 2,
            "linecolor": "white",
            "showbackground": true,
            "ticks": "",
            "zerolinecolor": "white"
           },
           "yaxis": {
            "backgroundcolor": "#E5ECF6",
            "gridcolor": "white",
            "gridwidth": 2,
            "linecolor": "white",
            "showbackground": true,
            "ticks": "",
            "zerolinecolor": "white"
           },
           "zaxis": {
            "backgroundcolor": "#E5ECF6",
            "gridcolor": "white",
            "gridwidth": 2,
            "linecolor": "white",
            "showbackground": true,
            "ticks": "",
            "zerolinecolor": "white"
           }
          },
          "shapedefaults": {
           "line": {
            "color": "#2a3f5f"
           }
          },
          "ternary": {
           "aaxis": {
            "gridcolor": "white",
            "linecolor": "white",
            "ticks": ""
           },
           "baxis": {
            "gridcolor": "white",
            "linecolor": "white",
            "ticks": ""
           },
           "bgcolor": "#E5ECF6",
           "caxis": {
            "gridcolor": "white",
            "linecolor": "white",
            "ticks": ""
           }
          },
          "title": {
           "x": 0.05
          },
          "xaxis": {
           "automargin": true,
           "gridcolor": "white",
           "linecolor": "white",
           "ticks": "",
           "title": {
            "standoff": 15
           },
           "zerolinecolor": "white",
           "zerolinewidth": 2
          },
          "yaxis": {
           "automargin": true,
           "gridcolor": "white",
           "linecolor": "white",
           "ticks": "",
           "title": {
            "standoff": 15
           },
           "zerolinecolor": "white",
           "zerolinewidth": 2
          }
         }
        },
        "title": {
         "text": "Geotag Locations Map"
        }
       }
      }
     },
     "metadata": {},
     "output_type": "display_data"
    },
    {
     "name": "stdout",
     "output_type": "stream",
     "text": [
      "✅ Geotag map saved to: C:\\Users\\USFJ139860\\OneDrive - WSP O365\\Sharing\\250904 - Nogal Canyon - Pix4D Merge Issue\\REPORT_GEOTAGGING_METRICS\\geo_map.png and HTML\n"
     ]
    }
   ],
   "source": [
    "plot_geotag_locations(\n",
    "    df = df,\n",
    "    output_dir=final_dir,\n",
    "    filename_prefix = \"geo_map\",\n",
    "    enable_color = False,\n",
    "    point_size = 4,\n",
    "    point_opacity = 1)"
   ]
  },
  {
   "cell_type": "code",
   "execution_count": 14,
   "id": "63c40a96",
   "metadata": {},
   "outputs": [
    {
     "ename": "NameError",
     "evalue": "name 'ACCU_HORTIZONTAL' is not defined",
     "output_type": "error",
     "traceback": [
      "\u001b[31m---------------------------------------------------------------------------\u001b[39m",
      "\u001b[31mNameError\u001b[39m                                 Traceback (most recent call last)",
      "\u001b[36mCell\u001b[39m\u001b[36m \u001b[39m\u001b[32mIn[14]\u001b[39m\u001b[32m, line 4\u001b[39m\n\u001b[32m      1\u001b[39m plot_geotag_locations(\n\u001b[32m      2\u001b[39m     df = df,\n\u001b[32m      3\u001b[39m     output_dir=final_dir,\n\u001b[32m----> \u001b[39m\u001b[32m4\u001b[39m     color_by_col = \u001b[43mACCU_HORTIZONTAL\u001b[49m,\n\u001b[32m      5\u001b[39m     filename_prefix = \u001b[33m\"\u001b[39m\u001b[33mgeo_map_1\u001b[39m\u001b[33m\"\u001b[39m,\n\u001b[32m      6\u001b[39m     enable_color = \u001b[38;5;28;01mTrue\u001b[39;00m,  \n\u001b[32m      7\u001b[39m     colorbar_title =  ACCU_HORTIZONTAL,\n\u001b[32m      8\u001b[39m     point_size = \u001b[32m6\u001b[39m,\n\u001b[32m      9\u001b[39m     point_opacity = \u001b[32m0.9\u001b[39m)\n",
      "\u001b[31mNameError\u001b[39m: name 'ACCU_HORTIZONTAL' is not defined"
     ]
    }
   ],
   "source": [
    "plot_geotag_locations(\n",
    "    df = df,\n",
    "    output_dir=final_dir,\n",
    "    color_by_col = ACCU_HORTIZONTAL,\n",
    "    filename_prefix = \"geo_map_1\",\n",
    "    enable_color = True,  \n",
    "    colorbar_title =  ACCU_HORTIZONTAL,\n",
    "    point_size = 6,\n",
    "    point_opacity = 0.9)"
   ]
  },
  {
   "cell_type": "code",
   "execution_count": null,
   "id": "db0af3ef",
   "metadata": {},
   "outputs": [],
   "source": [
    "plot_geotag_locations(\n",
    "    df = df,\n",
    "    output_dir=final_dir,\n",
    "    color_by_col = ACCU_VERTICAL,\n",
    "    filename_prefix = \"geo_map_2\",\n",
    "    enable_color = True,  \n",
    "    colorbar_title =  ACCU_VERTICAL,\n",
    "    point_size = 6,\n",
    "    point_opacity = 0.9)"
   ]
  },
  {
   "cell_type": "code",
   "execution_count": null,
   "id": "e72ff545",
   "metadata": {},
   "outputs": [],
   "source": []
  }
 ],
 "metadata": {
  "kernelspec": {
   "display_name": "Python 3",
   "language": "python",
   "name": "python3"
  },
  "language_info": {
   "codemirror_mode": {
    "name": "ipython",
    "version": 3
   },
   "file_extension": ".py",
   "mimetype": "text/x-python",
   "name": "python",
   "nbconvert_exporter": "python",
   "pygments_lexer": "ipython3",
   "version": "3.13.7"
  }
 },
 "nbformat": 4,
 "nbformat_minor": 5
}
