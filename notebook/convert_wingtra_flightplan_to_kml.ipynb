{
 "cells": [
  {
   "cell_type": "markdown",
   "metadata": {},
   "source": [
    "# Convert Wingtra flight plan to KML"
   ]
  },
  {
   "cell_type": "code",
   "execution_count": null,
   "metadata": {},
   "outputs": [],
   "source": [
    "# Author: Farid Javadnejad\n",
    "# Date: 2025-02-18\n",
    "# Last Update: 2025-6-11\n",
    "#\n",
    "# DESCRIPTION:\n",
    "# This script converts a Wingtra UAS flight plan from a .flightplan file (i.e., JSON) to a KML file, \n",
    "# extracting the survey area and adding a Placemark for the takeoff/landing location.\n",
    "#\n",
    "# DISCLAIMER:\n",
    "# This script was developed with the assistance of AI tools for debugging, reviewing, and testing.\n",
    "# ---------------------------------------------------------------------------------------------------"
   ]
  },
  {
   "cell_type": "code",
   "execution_count": 30,
   "metadata": {},
   "outputs": [],
   "source": [
    "#Instal\n",
    "#!pip install simplekml fastkml lxml\n"
   ]
  },
  {
   "cell_type": "code",
   "execution_count": null,
   "metadata": {},
   "outputs": [],
   "source": [
    "#pip install simplekml fastkml lxml\n",
    "import json\n",
    "import os\n",
    "import simplekml"
   ]
  },
  {
   "cell_type": "code",
   "execution_count": 32,
   "metadata": {},
   "outputs": [],
   "source": [
    "def read_flightplan(file_path):\n",
    "    with open(file_path, \"r\") as file:\n",
    "        return json.load(file)\n",
    "\n",
    "def extract_survey_areas(flightplan):\n",
    "    areas = []\n",
    "    for item in flightplan.get(\"flightPlan\", {}).get(\"items\", []):\n",
    "        if item.get(\"complexItemType\") == \"area\" and \"polygon\" in item:\n",
    "            areas.append(item[\"polygon\"])\n",
    "    return areas\n",
    "\n",
    "def extract_corridors(flightplan):\n",
    "    corridors = []\n",
    "    for item in flightplan.get(\"flightPlan\", {}).get(\"items\", []):\n",
    "        if item.get(\"complexItemType\") == \"corridor\" and \"corridor\" in item:\n",
    "            polyline = item[\"corridor\"].get(\"polyline\", [])\n",
    "            if polyline:\n",
    "                corridors.append(polyline)\n",
    "    return corridors\n",
    "\n",
    "def convert_to_kml_coordinates(coords):\n",
    "    try:\n",
    "        return [(point[1], point[0]) for point in coords]\n",
    "    except IndexError:\n",
    "        print(\"Invalid coordinate format.\")\n",
    "        return None\n",
    "\n",
    "def add_flightplan_features(flights_folder, takeoff_folder, flightplan_data, base_name, fill_color):\n",
    "    areas = extract_survey_areas(flightplan_data)\n",
    "    corridors = extract_corridors(flightplan_data)\n",
    "    takeoff_landing = flightplan_data.get(\"flightPlan\", {}).get(\"items\", [])[0].get(\"coordinate\", [])\n",
    "\n",
    "    # Add each area\n",
    "    for idx, area in enumerate(areas, start=1):\n",
    "        coords = convert_to_kml_coordinates(area)\n",
    "        if coords:\n",
    "            pol = flights_folder.newpolygon(name=f\"{base_name} - Area {idx}\", outerboundaryis=coords)\n",
    "            pol.style.polystyle.color = simplekml.Color.rgb(fill_color[0], fill_color[1], fill_color[2], 128)\n",
    "            pol.style.linestyle.color = simplekml.Color.rgb(255, 255, 255)\n",
    "            pol.style.linestyle.width = 1.0\n",
    "\n",
    "    # Add each corridor\n",
    "    for idx, corridor in enumerate(corridors, start=1):\n",
    "        coords = convert_to_kml_coordinates(corridor)\n",
    "        if coords:\n",
    "            line = flights_folder.newlinestring(name=f\"{base_name} - Corridor {idx}\", coords=coords)\n",
    "            line.style.linestyle.color = simplekml.Color.rgb(fill_color[0], fill_color[1], fill_color[2], 128)\n",
    "            line.style.linestyle.width = 5.0\n",
    "\n",
    "    # Add takeoff/landing point\n",
    "    if takeoff_landing:\n",
    "        pt = takeoff_folder.newpoint(name=f\"{base_name} - H\", coords=[(takeoff_landing[1], takeoff_landing[0], takeoff_landing[2])])\n",
    "        pt.style.iconstyle.icon.href = \"https://maps.google.com/mapfiles/kml/shapes/target.png\"\n",
    "        pt.style.iconstyle.scale = 0.9\n",
    "        pt.style.iconstyle.color = simplekml.Color.rgb(0, 170, 255)\n",
    "        pt.style.labelstyle.scale = 0.7\n",
    "        pt.style.labelstyle.color = simplekml.Color.rgb(0, 170, 255)\n",
    "\n"
   ]
  },
  {
   "cell_type": "code",
   "execution_count": 33,
   "metadata": {},
   "outputs": [
    {
     "name": "stdout",
     "output_type": "stream",
     "text": [
      "KML saved at: C:\\Users\\USFJ139860\\WSP O365\\Southwest Geomatics - 2025\\Carlsbad Karst\\UAS Planning\\CARLSBAD_KARST\\combined_flightplans.kml\n"
     ]
    }
   ],
   "source": [
    "# Define color palette\n",
    "Blue = (0,170,255) \n",
    "Green = (0,255,0) \n",
    "Orange = (255,170,0) \n",
    "Magenta = (255,0,255)\n",
    "Red = (255, 0, 0)\n",
    "Yellow = (255, 255, 0)\n",
    "Cyan = (0, 255, 255)\n",
    "Purple = (128, 0, 128)\n",
    "\n",
    "colors = [Blue, Green, Orange, Magenta, Red, Yellow, Cyan, Purple]\n",
    "\n",
    "# Input/Output paths\n",
    "read_folder = r\"C:\\Users\\USFJ139860\\WSP O365\\Southwest Geomatics - 2025\\Carlsbad Karst\\UAS Planning\\CARLSBAD_KARST\"\n",
    "read_file_extension = \".flightplan\"\n",
    "output_kml_path = os.path.join(read_folder, \"combined_flightplans.kml\")\n",
    "\n",
    "# Create the main KML and folders\n",
    "kml = simplekml.Kml()\n",
    "flights_folder = kml.newfolder(name=\"Flights\")\n",
    "takeoff_folder = kml.newfolder(name=\"Takeoff/Land\")\n",
    "\n",
    "# Loop through files and build KML content\n",
    "index = 0\n",
    "for read_file in os.listdir(read_folder):\n",
    "    if read_file.endswith(read_file_extension):\n",
    "        file_path = os.path.join(read_folder, read_file)\n",
    "        flightplan = read_flightplan(file_path)\n",
    "\n",
    "        fill_color = colors[index]\n",
    "        index = (index + 1) % len(colors)\n",
    "\n",
    "        base_name = os.path.splitext(read_file)[0]\n",
    "        add_flightplan_features(flights_folder, takeoff_folder, flightplan, base_name, fill_color)\n",
    "\n",
    "# Save the combined KML\n",
    "kml.save(output_kml_path)\n",
    "print(f\"KML saved at: {output_kml_path}\")\n"
   ]
  }
 ],
 "metadata": {
  "kernelspec": {
   "display_name": "Python 3",
   "language": "python",
   "name": "python3"
  },
  "language_info": {
   "codemirror_mode": {
    "name": "ipython",
    "version": 3
   },
   "file_extension": ".py",
   "mimetype": "text/x-python",
   "name": "python",
   "nbconvert_exporter": "python",
   "pygments_lexer": "ipython3",
   "version": "3.13.4"
  }
 },
 "nbformat": 4,
 "nbformat_minor": 2
}
